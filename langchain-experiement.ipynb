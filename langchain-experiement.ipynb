{
  "cells": [
    {
      "attachments": {},
      "cell_type": "markdown",
      "metadata": {
        "colab_type": "text",
        "id": "view-in-github"
      },
      "source": [
        "<a href=\"https://colab.research.google.com/github/\" target=\"_parent\"><img src=\"https://colab.research.google.com/assets/colab-badge.svg\" alt=\"Open In Colab\"/></a>"
      ]
    },
    {
      "cell_type": "code",
      "execution_count": 1,
      "metadata": {
        "id": "50dvxjqCFmhF"
      },
      "outputs": [
        {
          "data": {
            "text/plain": [
              "True"
            ]
          },
          "execution_count": 1,
          "metadata": {},
          "output_type": "execute_result"
        }
      ],
      "source": [
        "# Load environment variables\n",
        "\n",
        "from dotenv import load_dotenv,find_dotenv\n",
        "load_dotenv(find_dotenv())"
      ]
    },
    {
      "cell_type": "code",
      "execution_count": 2,
      "metadata": {
        "id": "C7RnyUOCJWmk"
      },
      "outputs": [
        {
          "data": {
            "text/plain": [
              "'\\n\\nLarge language models are models trained on very large datasets that can be used to generate contextually relevant text or predict the probability of a particular word, sentence, or phrase.'"
            ]
          },
          "execution_count": 2,
          "metadata": {},
          "output_type": "execute_result"
        }
      ],
      "source": [
        "# Run basic query with OpenAI wrapper\n",
        "\n",
        "from langchain.llms import OpenAI\n",
        "llm = OpenAI(model_name=\"text-davinci-003\")\n",
        "llm(\"explain large language models in one sentence\")"
      ]
    },
    {
      "cell_type": "code",
      "execution_count": 3,
      "metadata": {
        "id": "JtHgQ5XpJmgi"
      },
      "outputs": [],
      "source": [
        "# import schema for chat messages and ChatOpenAI in order to query chatmodels GPT-3.5-turbo or GPT-4\n",
        "\n",
        "from langchain.schema import (\n",
        "    AIMessage,\n",
        "    HumanMessage,\n",
        "    SystemMessage\n",
        ")\n",
        "from langchain.chat_models import ChatOpenAI"
      ]
    },
    {
      "cell_type": "code",
      "execution_count": 4,
      "metadata": {
        "id": "yrfYfKfdJyyF"
      },
      "outputs": [
        {
          "name": "stdout",
          "output_type": "stream",
          "text": [
            "Sure, here's an example script that trains a simple neural network on simulated data using the Keras library:\n",
            "\n",
            "```python\n",
            "import numpy as np\n",
            "from keras.models import Sequential\n",
            "from keras.layers import Dense\n",
            "\n",
            "# Generate simulated data\n",
            "X = np.random.rand(1000, 10)\n",
            "y = np.sum(X, axis=1)\n",
            "\n",
            "# Define the neural network architecture\n",
            "model = Sequential()\n",
            "model.add(Dense(32, input_dim=10, activation='relu'))\n",
            "model.add(Dense(1, activation='linear'))\n",
            "\n",
            "# Compile the model\n",
            "model.compile(loss='mean_squared_error', optimizer='adam')\n",
            "\n",
            "# Train the model\n",
            "model.fit(X, y, epochs=100, batch_size=32, validation_split=0.2)\n",
            "```\n",
            "\n",
            "In this script, we first generate simulated data consisting of 1000 samples with 10 features each, where the target variable is the sum of the features. We then define a simple neural network architecture with one hidden layer of 32 units and a linear output layer. We compile the model with mean squared error loss and the Adam optimizer, and then train the model for 100 epochs with a batch size of 32 and a validation split of 0.2.\n"
          ]
        }
      ],
      "source": [
        "chat = ChatOpenAI(model_name=\"gpt-3.5-turbo\",temperature=0.3) #gpt-3.5-turbo\n",
        "messages = [\n",
        "    SystemMessage(content=\"You are an expert data scientist\"),\n",
        "    HumanMessage(content=\"Write a Python script that trains a neural network on simulated data \")\n",
        "]\n",
        "response=chat(messages)\n",
        "\n",
        "print(response.content,end='\\n')"
      ]
    },
    {
      "cell_type": "code",
      "execution_count": 5,
      "metadata": {
        "id": "2grf7I8AJ_hK"
      },
      "outputs": [],
      "source": [
        "# Import prompt and define PromptTemplate\n",
        "\n",
        "from langchain import PromptTemplate\n",
        "\n",
        "template = \"\"\"\n",
        "You are an expert data scientist with an expertise in building deep learning models. \n",
        "Explain the concept of {concept} in a couple of lines\n",
        "\"\"\"\n",
        "\n",
        "prompt = PromptTemplate(\n",
        "    input_variables=[\"concept\"],\n",
        "    template=template,\n",
        ")"
      ]
    },
    {
      "cell_type": "code",
      "execution_count": 6,
      "metadata": {
        "id": "vcz7Q9Y-KFvI"
      },
      "outputs": [
        {
          "data": {
            "text/plain": [
              "'\\nAn autoencoder is a type of artificial neural network that is used for unsupervised learning. It is used to learn a compressed representation of input data, typically for dimensionality reduction or feature extraction. The autoencoder works by using an encoder to map the input data to a lower dimensional representation, and then using a decoder to reconstruct the original input from the lower dimensional representation.'"
            ]
          },
          "execution_count": 6,
          "metadata": {},
          "output_type": "execute_result"
        }
      ],
      "source": [
        "# Run LLM with PromptTemplate\n",
        "\n",
        "llm(prompt.format(concept=\"autoencoder\"))"
      ]
    },
    {
      "cell_type": "code",
      "execution_count": 7,
      "metadata": {
        "id": "dm78i-rUKXIB"
      },
      "outputs": [
        {
          "name": "stdout",
          "output_type": "stream",
          "text": [
            "\n",
            "An autoencoder is a type of artificial neural network used to learn efficient data representations in an unsupervised manner. It works by learning a compressed representation of the input data, and then reconstructing the input data from the compressed representation, allowing it to learn the most important features of the input data.\n"
          ]
        }
      ],
      "source": [
        "# Import LLMChain and define chain with language model and prompt as arguments.\n",
        "\n",
        "from langchain.chains import LLMChain\n",
        "chain = LLMChain(llm=llm, prompt=prompt)\n",
        "\n",
        "# Run the chain only specifying the input variable.\n",
        "print(chain.run(\"autoencoder\"))"
      ]
    },
    {
      "cell_type": "code",
      "execution_count": 8,
      "metadata": {
        "id": "B6MF4-nMKul3"
      },
      "outputs": [],
      "source": [
        "# Define a second prompt \n",
        "\n",
        "second_prompt = PromptTemplate(\n",
        "    input_variables=[\"ml_concept\"],\n",
        "    template=\"Turn the concept description of {ml_concept} and explain it to me like I'm five in 500 words\",\n",
        ")\n",
        "chain_two = LLMChain(llm=llm, prompt=second_prompt)"
      ]
    },
    {
      "cell_type": "code",
      "execution_count": 9,
      "metadata": {
        "id": "SkJKFyk1K-MO"
      },
      "outputs": [
        {
          "name": "stdout",
          "output_type": "stream",
          "text": [
            "\n",
            "\n",
            "\u001b[1m> Entering new SimpleSequentialChain chain...\u001b[0m\n",
            "\u001b[36;1m\u001b[1;3m\n",
            "An autoencoder is a type of artificial neural network used to learn efficient data representations in an unsupervised manner. It is composed of an encoder which maps the input data to a compressed representation, and a decoder which reconstructs the input data from the compressed representation.\u001b[0m\n",
            "\u001b[33;1m\u001b[1;3m\n",
            "\n",
            "An autoencoder is a type of computer program that can help teach a computer how to do some useful things. It works by taking a set of data, like a picture or a sound, and breaking it down into pieces, which we call a \"compressed representation\". It then takes those pieces and puts them back together in a way that the computer can understand. \n",
            "\n",
            "Think of it like a jigsaw puzzle. When you take apart a jigsaw puzzle, you have a bunch of pieces that can be arranged in different ways. If you look at the pieces, you can't tell what the original picture was just by looking at them. But when you put the pieces back together the right way, you can see the original picture. That's what the autoencoder does - it takes the pieces apart and then puts them back together to recreate the original picture or sound.\n",
            "\n",
            "Autoencoders are especially useful for computers because they can help the computer learn how to recognize patterns in data. For example, if you show the autoencoder a picture of a cat, it can learn to recognize what a cat looks like by breaking down the picture into pieces and then putting them back together. The computer can then use this information to\u001b[0m\n",
            "\n",
            "\u001b[1m> Finished chain.\u001b[0m\n",
            "\n",
            "\n",
            "An autoencoder is a type of computer program that can help teach a computer how to do some useful things. It works by taking a set of data, like a picture or a sound, and breaking it down into pieces, which we call a \"compressed representation\". It then takes those pieces and puts them back together in a way that the computer can understand. \n",
            "\n",
            "Think of it like a jigsaw puzzle. When you take apart a jigsaw puzzle, you have a bunch of pieces that can be arranged in different ways. If you look at the pieces, you can't tell what the original picture was just by looking at them. But when you put the pieces back together the right way, you can see the original picture. That's what the autoencoder does - it takes the pieces apart and then puts them back together to recreate the original picture or sound.\n",
            "\n",
            "Autoencoders are especially useful for computers because they can help the computer learn how to recognize patterns in data. For example, if you show the autoencoder a picture of a cat, it can learn to recognize what a cat looks like by breaking down the picture into pieces and then putting them back together. The computer can then use this information to\n"
          ]
        }
      ],
      "source": [
        "# Define a sequential chain using the two chains above: the second chain takes the output of the first chain as input\n",
        "\n",
        "from langchain.chains import SimpleSequentialChain\n",
        "overall_chain = SimpleSequentialChain(chains=[chain, chain_two], verbose=True)\n",
        "\n",
        "# Run the chain specifying only the input variable for the first chain.\n",
        "explanation = overall_chain.run(\"autoencoder\")\n",
        "print(explanation)"
      ]
    },
    {
      "cell_type": "code",
      "execution_count": 10,
      "metadata": {
        "id": "mDDu1B_SLQls"
      },
      "outputs": [],
      "source": [
        "# Import utility for splitting up texts and split up the explanation given above into document chunks\n",
        "\n",
        "from langchain.text_splitter import RecursiveCharacterTextSplitter\n",
        "\n",
        "text_splitter = RecursiveCharacterTextSplitter(\n",
        "    chunk_size = 100,\n",
        "    chunk_overlap  = 0,\n",
        ")\n",
        "\n",
        "texts = text_splitter.create_documents([explanation])\n"
      ]
    },
    {
      "cell_type": "code",
      "execution_count": 11,
      "metadata": {
        "id": "F6lfAdeuLhtp"
      },
      "outputs": [
        {
          "data": {
            "text/plain": [
              "'An autoencoder is a type of computer program that can help teach a computer how to do some useful'"
            ]
          },
          "execution_count": 11,
          "metadata": {},
          "output_type": "execute_result"
        }
      ],
      "source": [
        "# Individual text chunks can be accessed with \"page_content\"\n",
        "\n",
        "texts[0].page_content"
      ]
    },
    {
      "cell_type": "code",
      "execution_count": 12,
      "metadata": {
        "id": "Z5sv4e3tLw2y"
      },
      "outputs": [],
      "source": [
        "# Import and instantiate OpenAI embeddings\n",
        "\n",
        "from langchain.embeddings import OpenAIEmbeddings\n",
        "\n",
        "embeddings = OpenAIEmbeddings(model_name=\"ada\")"
      ]
    },
    {
      "cell_type": "code",
      "execution_count": 13,
      "metadata": {},
      "outputs": [
        {
          "name": "stdout",
          "output_type": "stream",
          "text": [
            "Requirement already satisfied: python-dotenv==1.0.0 in /Users/brandonl/miniforge3/envs/NLP/lib/python3.8/site-packages (from -r requirements-langchain.txt (line 1)) (1.0.0)\n",
            "Requirement already satisfied: langchain==0.0.137 in /Users/brandonl/miniforge3/envs/NLP/lib/python3.8/site-packages (from -r requirements-langchain.txt (line 2)) (0.0.137)\n",
            "Requirement already satisfied: pinecone-client==2.2.1 in /Users/brandonl/miniforge3/envs/NLP/lib/python3.8/site-packages (from -r requirements-langchain.txt (line 3)) (2.2.1)\n",
            "Requirement already satisfied: openai in /Users/brandonl/miniforge3/envs/NLP/lib/python3.8/site-packages (from -r requirements-langchain.txt (line 4)) (0.27.6)\n",
            "Requirement already satisfied: tiktoken in /Users/brandonl/miniforge3/envs/NLP/lib/python3.8/site-packages (from -r requirements-langchain.txt (line 5)) (0.4.0)\n",
            "Requirement already satisfied: PyYAML>=5.4.1 in /Users/brandonl/miniforge3/envs/NLP/lib/python3.8/site-packages (from langchain==0.0.137->-r requirements-langchain.txt (line 2)) (6.0)\n",
            "Requirement already satisfied: SQLAlchemy<2,>=1 in /Users/brandonl/miniforge3/envs/NLP/lib/python3.8/site-packages (from langchain==0.0.137->-r requirements-langchain.txt (line 2)) (1.4.48)\n",
            "Requirement already satisfied: aiohttp<4.0.0,>=3.8.3 in /Users/brandonl/miniforge3/envs/NLP/lib/python3.8/site-packages (from langchain==0.0.137->-r requirements-langchain.txt (line 2)) (3.8.4)\n",
            "Requirement already satisfied: async-timeout<5.0.0,>=4.0.0 in /Users/brandonl/miniforge3/envs/NLP/lib/python3.8/site-packages (from langchain==0.0.137->-r requirements-langchain.txt (line 2)) (4.0.2)\n",
            "Requirement already satisfied: dataclasses-json<0.6.0,>=0.5.7 in /Users/brandonl/miniforge3/envs/NLP/lib/python3.8/site-packages (from langchain==0.0.137->-r requirements-langchain.txt (line 2)) (0.5.7)\n",
            "Requirement already satisfied: numpy<2,>=1 in /Users/brandonl/miniforge3/envs/NLP/lib/python3.8/site-packages (from langchain==0.0.137->-r requirements-langchain.txt (line 2)) (1.23.2)\n",
            "Requirement already satisfied: openapi-schema-pydantic<2.0,>=1.2 in /Users/brandonl/miniforge3/envs/NLP/lib/python3.8/site-packages (from langchain==0.0.137->-r requirements-langchain.txt (line 2)) (1.2.4)\n",
            "Requirement already satisfied: pydantic<2,>=1 in /Users/brandonl/miniforge3/envs/NLP/lib/python3.8/site-packages (from langchain==0.0.137->-r requirements-langchain.txt (line 2)) (1.10.7)\n",
            "Requirement already satisfied: requests<3,>=2 in /Users/brandonl/miniforge3/envs/NLP/lib/python3.8/site-packages (from langchain==0.0.137->-r requirements-langchain.txt (line 2)) (2.30.0)\n",
            "Requirement already satisfied: tenacity<9.0.0,>=8.1.0 in /Users/brandonl/miniforge3/envs/NLP/lib/python3.8/site-packages (from langchain==0.0.137->-r requirements-langchain.txt (line 2)) (8.2.2)\n",
            "Requirement already satisfied: loguru>=0.5.0 in /Users/brandonl/miniforge3/envs/NLP/lib/python3.8/site-packages (from pinecone-client==2.2.1->-r requirements-langchain.txt (line 3)) (0.7.0)\n",
            "Requirement already satisfied: typing-extensions>=3.7.4 in /Users/brandonl/miniforge3/envs/NLP/lib/python3.8/site-packages (from pinecone-client==2.2.1->-r requirements-langchain.txt (line 3)) (4.5.0)\n",
            "Requirement already satisfied: dnspython>=2.0.0 in /Users/brandonl/miniforge3/envs/NLP/lib/python3.8/site-packages (from pinecone-client==2.2.1->-r requirements-langchain.txt (line 3)) (2.3.0)\n",
            "Requirement already satisfied: python-dateutil>=2.5.3 in /Users/brandonl/miniforge3/envs/NLP/lib/python3.8/site-packages (from pinecone-client==2.2.1->-r requirements-langchain.txt (line 3)) (2.8.2)\n",
            "Requirement already satisfied: urllib3>=1.21.1 in /Users/brandonl/miniforge3/envs/NLP/lib/python3.8/site-packages (from pinecone-client==2.2.1->-r requirements-langchain.txt (line 3)) (2.0.2)\n",
            "Requirement already satisfied: tqdm>=4.64.1 in /Users/brandonl/miniforge3/envs/NLP/lib/python3.8/site-packages (from pinecone-client==2.2.1->-r requirements-langchain.txt (line 3)) (4.65.0)\n",
            "Requirement already satisfied: regex>=2022.1.18 in /Users/brandonl/miniforge3/envs/NLP/lib/python3.8/site-packages (from tiktoken->-r requirements-langchain.txt (line 5)) (2023.5.5)\n",
            "Requirement already satisfied: attrs>=17.3.0 in /Users/brandonl/miniforge3/envs/NLP/lib/python3.8/site-packages (from aiohttp<4.0.0,>=3.8.3->langchain==0.0.137->-r requirements-langchain.txt (line 2)) (23.1.0)\n",
            "Requirement already satisfied: charset-normalizer<4.0,>=2.0 in /Users/brandonl/miniforge3/envs/NLP/lib/python3.8/site-packages (from aiohttp<4.0.0,>=3.8.3->langchain==0.0.137->-r requirements-langchain.txt (line 2)) (3.1.0)\n",
            "Requirement already satisfied: multidict<7.0,>=4.5 in /Users/brandonl/miniforge3/envs/NLP/lib/python3.8/site-packages (from aiohttp<4.0.0,>=3.8.3->langchain==0.0.137->-r requirements-langchain.txt (line 2)) (6.0.4)\n",
            "Requirement already satisfied: yarl<2.0,>=1.0 in /Users/brandonl/miniforge3/envs/NLP/lib/python3.8/site-packages (from aiohttp<4.0.0,>=3.8.3->langchain==0.0.137->-r requirements-langchain.txt (line 2)) (1.9.2)\n",
            "Requirement already satisfied: frozenlist>=1.1.1 in /Users/brandonl/miniforge3/envs/NLP/lib/python3.8/site-packages (from aiohttp<4.0.0,>=3.8.3->langchain==0.0.137->-r requirements-langchain.txt (line 2)) (1.3.3)\n",
            "Requirement already satisfied: aiosignal>=1.1.2 in /Users/brandonl/miniforge3/envs/NLP/lib/python3.8/site-packages (from aiohttp<4.0.0,>=3.8.3->langchain==0.0.137->-r requirements-langchain.txt (line 2)) (1.3.1)\n",
            "Requirement already satisfied: marshmallow<4.0.0,>=3.3.0 in /Users/brandonl/miniforge3/envs/NLP/lib/python3.8/site-packages (from dataclasses-json<0.6.0,>=0.5.7->langchain==0.0.137->-r requirements-langchain.txt (line 2)) (3.19.0)\n",
            "Requirement already satisfied: marshmallow-enum<2.0.0,>=1.5.1 in /Users/brandonl/miniforge3/envs/NLP/lib/python3.8/site-packages (from dataclasses-json<0.6.0,>=0.5.7->langchain==0.0.137->-r requirements-langchain.txt (line 2)) (1.5.1)\n",
            "Requirement already satisfied: typing-inspect>=0.4.0 in /Users/brandonl/miniforge3/envs/NLP/lib/python3.8/site-packages (from dataclasses-json<0.6.0,>=0.5.7->langchain==0.0.137->-r requirements-langchain.txt (line 2)) (0.8.0)\n",
            "Requirement already satisfied: six>=1.5 in /Users/brandonl/miniforge3/envs/NLP/lib/python3.8/site-packages (from python-dateutil>=2.5.3->pinecone-client==2.2.1->-r requirements-langchain.txt (line 3)) (1.16.0)\n",
            "Requirement already satisfied: idna<4,>=2.5 in /Users/brandonl/miniforge3/envs/NLP/lib/python3.8/site-packages (from requests<3,>=2->langchain==0.0.137->-r requirements-langchain.txt (line 2)) (3.4)\n",
            "Requirement already satisfied: certifi>=2017.4.17 in /Users/brandonl/miniforge3/envs/NLP/lib/python3.8/site-packages (from requests<3,>=2->langchain==0.0.137->-r requirements-langchain.txt (line 2)) (2023.5.7)\n",
            "Requirement already satisfied: packaging>=17.0 in /Users/brandonl/miniforge3/envs/NLP/lib/python3.8/site-packages (from marshmallow<4.0.0,>=3.3.0->dataclasses-json<0.6.0,>=0.5.7->langchain==0.0.137->-r requirements-langchain.txt (line 2)) (23.1)\n",
            "Requirement already satisfied: mypy-extensions>=0.3.0 in /Users/brandonl/miniforge3/envs/NLP/lib/python3.8/site-packages (from typing-inspect>=0.4.0->dataclasses-json<0.6.0,>=0.5.7->langchain==0.0.137->-r requirements-langchain.txt (line 2)) (1.0.0)\n"
          ]
        }
      ],
      "source": [
        "!pip install -r requirements-langchain.txt"
      ]
    },
    {
      "cell_type": "code",
      "execution_count": 14,
      "metadata": {
        "id": "dqzoir4hMlfl"
      },
      "outputs": [
        {
          "name": "stdout",
          "output_type": "stream",
          "text": [
            "[-0.029794076165721457, 0.03975954240350373, -0.0035221879025435156, 0.010661204241074473, 0.02950759575664099, 0.021015465053659508, -0.009704560877672765, 0.0012303357823354151, 0.022979909328985353, -0.007530371119066249, -0.0482925954200129, -0.028689076842927274, 0.01554162133159819, 0.03519630025117394, 0.015940649278750565, -0.008978125551299418, 0.052098709579501024, -0.016390835705747932, 0.018836159074539467, 0.00556081062322688, 0.008220995695812614, -0.011878751101940564, 0.05680518914240335, -0.013341853264391744, 0.027747779812759728, 0.01606342739520439, 0.024125834690597477, 0.03468472476594966, -0.0022355788168334297, -0.027318058267816463, -0.028054725103894295, 0.0047576394397311735, 0.043831672090018224, 0.0214247235791938, 0.03947306013177814, 0.015480233204693843, 0.02897555725200774, -0.01857013982222284, -0.03542139346467262, -0.010057547031154954, -0.0038189007526510327, -0.01697402989625848, 0.00586263922818664, 0.006072384711467312, -0.021506575656829688, -0.012134537913230138, -0.07583574876397317, 0.013485093468931977, -0.02293898329016741, 0.04669648735669367, 0.006650463612786901, 0.030489816962981347, 0.011919677140758506, 0.026315372179422005, 0.004151423886724249, -0.064662969968997, 0.021383797540375858, -0.027829631890395612, -0.03861361331660135, -0.030653521118253115, 0.010906760473982128, -0.025435466070126506, 0.01641129686251177, 0.03836806080898395, -0.07820945156483332, -0.048906486002282035, 0.023225465561893005, -0.007003449766269088, 0.0035989239924965164, -0.06437648769727139, -0.005658009965419493, 0.052835374552933724, 0.009904075316910234, -0.05312185682465932, -0.0107839823575283, -0.03294537184147737, 0.02052435445048933, 0.006154236789103196, 0.026786021625828344, -0.006236088401077799, 0.016677316114828398, 0.010916991983686612, 0.00559662090719258, -0.00452743093704153, -0.02416676072941542, 0.0381225045760763, -0.007970324639375283, -0.03953444919000505, -0.01094768651280007, -0.035503245542308506, 0.03607620636046944, 0.015163057335177354, -0.04248111653431638, 0.014344538421463637, 0.026704169548192457, -0.024739725272866615, 0.0490701901575538, 0.020166251610832332, -0.0370584275668098, 0.017301436344156887, -0.011336482950247957, -0.04514130160690212, -0.04366796793474645, -0.0368128750591924, -0.0017483045641411507, 0.04731037421367254, -0.036649170903920635, -0.008701875720600872, -0.005253866263414877, -0.0037856485789420956, 0.001658779087057543, -0.0013799711461022343, 0.004744850052600566, -0.03155389024695759, 0.043586115857110565, 0.06269852755631627, 0.0059137967767090675, 0.06024296895252999, -0.009735255406786221, 0.039063799743598714, -0.006507222942585385, 0.011500186174197161, 0.005739861577394095, 0.006010996118901681, 0.0431359294301132, 0.011305788421134501, -0.005351065139946208, -0.02396213239797084, -0.006711852671013814, 0.016605695546896997, 0.07301185953611568, 0.010702130279892415, -0.0192863436388917, 0.005622199681453793, -0.018119955257870607, -0.009704560877672765, -0.004054225010192918, 0.04432278083054327, 0.08041945021042168, -0.014272917853532237, 0.01094768651280007, -0.00076991906799443, 0.01862129737074527, -0.007213195249549761, -0.002603912234872346, 0.05492259880735852, 0.0007782321114216641, 0.052098709579501024, 0.007612222731040851, -0.024391853942914102, 0.004471157633666859, -0.027747779812759728, 0.013771575740657573, 0.060815929770690925, 0.05598667209133477, 0.02396213239797084, -0.03255657819799718, 0.04812889499003139, -0.004159097519002614, -0.006195162362259856, -0.003913542217417525, 0.013853426886970893, -0.04424092875290738, 0.04608259677442453, -0.007494560835100549, -0.04387259812883616, -0.03139018981697608, -0.01787439902496295, 0.0005646499284171306, 0.0022752259169383114, 0.009464121330939919, 0.03851129821955649, -0.0390024106853718, -0.007428056022021393, 0.04039389227989158, -0.0021562848494543073, 0.0391456518212346, -0.025230835876036792, -0.019879771201751866, 0.02039134482433102, 0.05750093180230837, 0.03597389126342458, 0.03016241051508294, 0.030141947495673966, 0.01217546395204808, -0.020381113314626532, 0.05279444851411578, -0.02449416903995896, 0.018928242661879837, 0.015480233204693843, 0.01644199139162523, -0.04616444885206042, 0.038040652498440415, 0.030960466409387686, -0.0005553776809551008, -0.008333542302561956, 0.0019350291505867304, -0.035503245542308506, -0.04428185479172533, -0.002321267477777855, 0.04102824588156969, 0.009003704325560632, 0.02879139193997213, 0.024064447495015694, 0.005133646490048454, -0.0014093867365026305, 0.0410896349397966, -0.007003449766269088, -0.003542650689121845, -0.004123287235036914, -0.0014119446139287518, -0.022918520270758438, 0.018334816961664804, -0.009832454748978835, 0.00928506991111142, 0.030326114670354707, 0.007356435919751277, -0.03802018947903144, 0.017147963698589605, 0.01734236238297483, -0.04125333536977811, -0.029896391262766314, 0.005637546946010522, 0.011019306149408903, -0.004512083672484801, -0.004813912277444561, -0.037201668702672594, -0.017332130873270346, -0.040230188124619815, 0.02574240949861594, 0.025599168362753142, -0.004330474840891465, -0.0012169069258482776, 0.04702389194194694, -0.007990787658784254, 0.0013607871818216446, -0.016053195885499905, 0.03511444817353806, -0.018150649786984063, -0.017454908989724172, 0.023041298387212264, -0.05414500406981762, -0.004824143787149047, 0.042030930107319016, -0.03429592739717921, -0.0040388777456361906, -0.006839746076658601, 0.007126227417061633, 0.02897555725200774, 0.03108324266319638, -0.01112162124645376, -0.042317412379044614, 0.06994241407535051, -0.0511164846478704, 0.024780649449039426, 0.010722593299301387, -0.04673741339551161, -0.02694972391845498, 0.033231854113202966, 0.02289805725134947, -0.003225474819605357, 0.035769261069334875, -0.006609537573968958, -0.045837040541516876, 0.012257316029683966, 0.013413473832323143, -0.025783335537433883, 0.02758407565748796, 0.06339426276564078, -0.008527940986947181, 0.02326639160071095, 0.03198361365454598, 0.009438542556678704, -0.002969687775485141, -0.005128530735196211, -0.005867754983038882, 0.026110743847977423, 0.0012571933788943692, -0.07612223103569878, 0.03343648430729268, -0.0317585204410473, 0.003729375275567425, 5.6872653101309647e-05, -0.02606981780915948, 0.02226370551231649, 0.002204884520550614, 0.021854446986782197, -0.04411815063645356, -0.010384954410375926, 0.022222779473498547, 0.02793194698744047, 0.02295944630957638, -0.022979909328985353, -0.20217409531883787, 0.010323565352149013, -0.028832317978790073, 0.04121240933096017, -0.009545973408575803, 0.016554537998374568, -0.030980929428796655, 0.003465914599168845, 0.04100778286216072, -0.05152574503604983, 0.03020333655390088, 0.04514130160690212, -0.0028162155955791393, 0.00076991906799443, -0.0009470516140920543, 0.012748426632854144, 0.04947945054573323, 0.008804190817645727, -0.00017409506665410517, -0.01738328842179277, -0.0022931310589211613, 0.016124816453431303, -0.014262686343827751, 0.0021089643499017027, -0.06355796692091255, 0.00818518634316948, -0.0014861228264556312, -0.006532801716846599, -0.021670279812101456, 0.03198361365454598, 0.023614261068018328, -0.048251669381194955, 0.03194268761572804, -0.010083125805416166, -0.043831672090018224, -0.011326251440543472, 0.0338457446954721, 0.01573601908466085, -0.02486250152667531, 0.02504666870135605, 0.014426390499099521, -0.05619130228542448, -0.009499931614905619, 0.004959711290733481, -0.009898959562057991, -0.013126991560597545, -0.018907779642470868, 0.007330857145490062, 0.039084262763007686, -0.011152315775567216, 0.04297222527484143, 0.0006145284218111772, -0.0054073384433208785, -0.02842305759061065, -0.09887704901383057, 0.03251565215917924, 0.06707759880867507, -0.028218429259166067, 0.004905995864784932, -0.006164468298807683, 0.011428565606265763, 0.010078010050563925, -0.02026856670787719, -0.06875555894963019, 0.0010455296039594266, 0.056027598130152706, 0.06110241204241652, 0.04102824588156969, 0.011183010304680673, 0.03540093044526365, -0.006737430979613745, -0.003166643871635206, 0.035319078367627765, 0.018744075487199096, 0.01447754804762195, -0.06454019185254316, -0.0010506453588116694, -0.04792426479594168, 0.028545835707064475, 0.020422039353444475, 0.0015846008745306638, -0.011244399362907586, 0.041498891602685765, -0.03861361331660135, 0.07739093078847446, -0.07739093078847446, 0.008819538082202457, 0.015746250594365338, -0.04555055826979128, -0.0053868754239119075, -0.051034632570234516, 0.04350426377947468, 0.03666963392332961, -0.017332130873270346, -0.015193750932968245, 0.027440836384270292, 0.017280973324747918, 0.07894612026355628, 0.012727964544767737, 0.012973519846352827, -0.006722083715057017, -0.03568740899169899, -0.0050722574318215405, 0.01431384389235018, 0.04710574401958283, -0.010175209392756537, -0.03963676428704991, -0.004806238645166197, -0.006404907845540529, 0.015377918107648986, 0.014733334858911524, -0.011694583927259822, -0.0086456024172262, -0.06126611619768829, -0.017117269169476146, 0.04559148430860922, -0.010257061470392423, -0.035380467425854684, -0.02428953884586925, -0.006711852671013814, -0.044404632908179156, -0.02948713273723202, -0.017096808012712305, 0.01982861365322944, -0.051812227307775426, 0.03245426310095232, -0.062248337404028645, 0.010824908396346242, 0.004698808258930381, -0.06625907803231622, 0.0016306425517855284, 0.03308861297734017, -0.0013249770142712656, -0.030060095418038082, -0.04123287235036914, 0.0011133131229210023, -0.039125188801825625, -0.05737815368585455, 0.007095532887948176, 0.0003488296026647407, 0.0050313313930035975, 0.007494560835100549, -0.043831672090018224, 0.046491857162603956, 0.007791273685208067, 0.008328426547709713, 0.0165340749789656, 0.03740629889676231, 0.011530880703310618, 0.003980046564835398, -0.002537407654623831, 0.01105000067852236, 0.05107555860905246, -0.03259750423681512, -0.0029594562657806554, 0.006496991432880899, -0.0037651855595331246, -0.050830006101435066, -0.017147963698589605, -0.018744075487199096, 0.005668241475123978, -0.011183010304680673, -0.018703149448381154, 0.054799820690904694, -0.0020936170853449745, 0.026294909160013032, -0.05696889329767512, -0.027297595248407493, 0.004174444783559342, -0.019419353265050017, -0.018058566199643692, -0.03687426411741932, 0.0009150782044731971, -0.018416669039300688, -0.05381759575927408, -0.005003194741316263, 0.010282640244653637, -0.0019657234468695457, 0.047515004407762254, 0.00850747796753821, 0.015961112298159535, 0.017608381635291454, 0.02351194597097347, 0.02428953884586925, 0.0016702895354750893, 0.024228149787642334, 0.04268574300311583, -0.019542131381503843, -0.023327780658937862, 0.00020079283952967187, 0.022918520270758438, -0.027052039015499837, -0.01309629703148409, -0.013822732357857435, -0.010277524489801394, -0.024616947156412786, 0.014835649024633815, 0.02723620619018058, -0.03593296522460664, -0.01873384397749461, 0.030735373195889003, 0.00728993110667212, -0.08398000813700215, -0.0011433681826779288, -0.016308983628112044, -0.02643815029587583, -0.10288778591682789, -0.041683058777366506, -0.06715945088631095, 0.03282259372502354, 0.054799820690904694, 0.02672463256760143, 0.0421127821849549, -0.01455939919393527, 0.030264725612127796, 0.012032223747507847, 0.014528704664821812, 0.03055120602120826, 0.02314361348425712, 0.02263203986167797, 0.05136204088077806, 0.004834375296853532, -0.012523334350678025, 0.0070290285405303025, 0.020585743508716243, -0.016912640838031564, 0.020688056743115968, 0.014457085028212979, 0.024248612807051307, -0.03568740899169899, 0.016800094231282224, -0.007745232357199164, -0.042767595080751716, 0.002341730497186826, -0.005003194741316263, 0.01525513999119516, -0.014794723917138437, -0.02913926140727951, 0.04952037658455117, 0.023409630873928618, -0.02500574266253811, -0.028075188123303268, -0.04489574537399446, 0.041110097959205574, 0.024555558098185874, 0.01825296488402892, 0.004842048929131897, 0.05991556064198645, -0.004790891846270752, 0.0015615799776955712, 0.01008824156026841, -0.01379203782874398, -0.017915325063780893, -0.012656343976836338, -0.025578705343344173, -0.04272666904193378, 0.020831297878978767, 0.00208594345306661, -0.017608381635291454, -0.011663890329468931, -0.028689076842927274, -0.01251310284097354, -0.0014503126589052522, 0.07559019253106553, 0.01843713205870966, 0.04514130160690212, 0.04293129923602349, 0.036710559962147546, -0.02656092841232966, 0.00855351882988583, -0.029712224088085572, 0.0330681499579312, 0.03423453833895229, 0.03521676327058291, 0.017495835028542114, -0.03771324418789688, -0.009100903667753246, -0.010149630618495324, 0.022366020609361346, -0.03353879940433754, 0.019347732697118616, -0.006568611535151016, -0.007274583842115392, 0.022734353096077697, -0.04127379838918708, 0.012431250763337655, -0.014723103349207038, -0.06372167107618432, -0.0038623846688950964, -0.0045044100402064375, -0.023900743339743926, 0.0014017131042242663, -0.042153708223772846, -0.005698935538576153, -0.0018851506571926837, -0.013423705342027628, -0.011510417683901647, -0.017117269169476146, 0.007786157930355824, 0.03748815097439819, 0.023225465561893005, -0.03650592976805784, 0.05680518914240335, -0.01662615856630597, -0.009116250932309973, -0.001685636683616497, -0.009945000424405612, 0.03566694597229002, -0.0016549422709183608, -0.022611576842269002, -0.008573981849294803, -0.009269722646554693, 0.02707250203490881, -0.03650592976805784, -0.033518336384928564, 0.0065634957802987726, -0.03638315165160401, -0.06879648498844812, 0.020462965392262417, 0.048906486002282035, -0.02574240949861594, 0.06376259711500226, -0.01701495593507642, -0.04591889261915276, 0.03675148600096549, -0.023245928581301978, 0.013761344230953088, -0.06183908074113949, 0.024187223748824392, -0.03844990916132958, 0.01525513999119516, -0.009689213613116036, 0.023327780658937862, 0.008435857399606811, -0.007617338485893094, 0.053080930785841376, 0.0010698293230922591, -0.00950504736975786, -0.0027190164862171675, 0.03527815232880983, 0.03887963256891797, -0.00903439885467409, -0.0016971471320340434, -0.01829389092284686, -0.01747537200913314, 0.03034657768976368, 0.005877986492743368, 0.021915836045009112, 0.03863407633601032, 0.009801760219865379, -0.0020757119433621246, 0.007673611789267765, 0.04493667141281241, -0.03001916937922014, -0.01138763956744782, 0.020698288252820454, 0.0712111138281262, 0.030940003389978713, 0.029589447834276875, -0.002413350832287584, -0.013935278964606777, 0.013607871585385805, -0.028075188123303268, -0.049029264118735864, -0.006297477459304712, 0.017352593892679315, 0.014631019761866667, 0.05353111721283874, -0.024923890584902225, 0.02001277896526505, 0.04968407701453268, -0.009980810708371311, 0.014804955426842924, 0.020595973155775597, -0.01096814953220904, -0.03308861297734017, -0.011776436004895708, -0.0493566724292794, 0.035646482952881045, 0.03540093044526365, 0.014610556742457696, 0.08635371093786229, -0.02619259406296818, 0.0019874654049915775, 0.010548658565647696, -0.04481389329635858, 0.034316390416588176, 0.0006848698764065348, -0.021649816792692483, 0.01518351942326376, -0.03194268761572804, 0.03126741170052225, -0.04106917192038763, 0.005683588274019424, 0.017219584266521003, -0.015060742238132498, -0.010072894295711681, 0.024371390923505133, -0.002024554627670338, -0.01433430691175915, 0.02574240949861594, -0.00548407476610452, 0.05340833909638491, 0.012410787743928684, 0.0023583567004566153, -0.026990649957272923, -0.02981453918513043, 0.021097317131295392, 0.05087093214025301, -0.03141064911109479, 0.02119963222834025, -0.006957407972598903, 0.042562968611952266, -0.015316529049422073, -0.01140810258685679, 0.029589447834276875, 0.017956251102598835, 0.02242740966758826, 0.032863519763841484, 0.05520907735379386, 0.04620537489087836, -0.0357487980499259, -0.0014682176844727814, 0.006952292217746661, 0.03527815232880983, 0.013761344230953088, 0.011009074639704419, -0.02746129940367926, 0.08078778455978317, -0.04501852349044829, 0.030776299234706945, -0.008134028794647051, -0.008502362212685967, 0.020626667684889056, -0.039125188801825625, -0.016871714799213622, -0.01936819571652759, -0.06126611619768829, 0.02169074283151043, 0.014968658650792128, 0.0016344793679247103, -0.0013006771787231123, -0.005714282803132882, -0.01810972374816612, 0.03554417158112645, -0.08332519151591507, -0.010681667260483444, -0.00482925954200129, 0.024760188292275585, 0.06842815063908664, -0.02688833486022807, -0.01258472340890494, 0.024780649449039426, -0.03806111551784939, 0.005801250635621009, 0.006711852671013814, 0.02778870585157767, 0.060815929770690925, 0.00928506991111142, 0.03360018846256445, 0.043545189818292626, 0.026294909160013032, -0.01294282531723937, -0.016186205511658218, -0.03951398617059608, -0.035646482952881045, 0.03887963256891797, 0.011530880703310618, -0.029609910853685847, 0.036465003729239893, 0.0005518605994941838, -0.03396852281192593, -0.007366667429455762, 0.06990148803653257, -0.015797408142887766, -0.052548892281208126, -0.02398259541737981, -0.006553264270594287, -0.00552500033926118, 0.024084908651779535, 0.023061761406621237, 0.04743315233012637, -0.04677833570903929, 0.0019657234468695457, -0.06339426276564078, -0.0052359611214320275, 0.008154491814056022, -0.011940140160167477, 0.021629353773283514, -0.011039769168817874, -0.04102824588156969, 0.07141574402221591, 0.027850094909804585, 0.016145279472840276, 0.04460926310226886, 0.010328681107001256, 0.0185292137834049, 0.013761344230953088, -0.0172912048344524, -0.005540347603817909, 0.010297986577887799, 0.008446088909311297, -0.021281484305976133, 0.048742781847010266, 0.008579097604147044, 0.020841529388683253, -0.016912640838031564, 0.008747917514271057, -0.011101158227044789, -0.01303490890457974, -0.034787039862994515, -0.00137101869152613, -0.02175213188973734, -0.047883338757123736, -0.01510166827695044, -0.013751112721248602, 0.03568740899169899, -0.0063793290712793145, -0.06028389499134793, -0.0555364856643374, 0.021097317131295392, 0.07546741441461169, 0.006266782930191256, -0.0012520776240421262, 0.06900111518253783, 0.006491875678028656, -0.012185695461752567, -0.021956762083827054, 0.04718759609721872, 0.0051617826760745064, -0.01415013973707841, 0.006809051547545145, -0.023880280320334953, 0.03581018710815281, -0.010824908396346242, 0.006655579367639143, -0.015725787574956365, -0.010927223493391099, 0.0038265743849293966, -0.04718759609721872, -0.0175060665382466, 0.05193500542422925, 0.03536000440644571, 0.009612477290332395, -0.004998078986464019, 0.041314724428005024, 0.0005694459485911081, 0.047392226291308424, -0.020954075995432593, -0.026008428750932566, -0.0025936807251678603, 0.021854446986782197, 0.011755972985486736, 0.04104870890097866, -0.002754826537352226, 0.006486759923176414, 0.006164468298807683, 0.006814167302397388, -0.009121366687162217, -0.06245296759811836, 0.01527560301060413, -0.027154354112544694, 0.03669009694273858, -0.006614653328821201, -0.010164977883052052, -0.01906125228803815, -0.01210384338411668, -0.012932593807534885, 0.006993218256564603, 0.03169713138282039, 0.011377408057743335, 0.028750465901154185, -0.004936690393898388, 0.01493796412167867, 0.026172131043559206, -0.005734745822541853, 0.009085556403196516, 0.00043995375313967425, -0.004573472730711715, 0.026417687276466862, 0.007100648642800419, 0.013648797624203747, -0.002133264185449856, -0.06679111653694947, -0.030673984137662088, -0.03400944885074387, -0.013996668022833692, -0.11099111925103891, 0.012134537913230138, -0.05373574368163819, -0.010998843129999932, 0.021506575656829688, -0.005151551166370021, 0.051812227307775426, -0.02588565063447874, 0.00291085682751499, -0.04374982001238234, -0.014610556742457696, -0.04096685682334278, 0.009177639990536886, 0.012953056826943856, -0.013157686089711003, 0.012523334350678025, -0.029916854282175283, -0.02383935428151701, -0.019357964206823102, 0.01105000067852236, -0.05876963528037433, 0.011674121839173417, -0.010906760473982128, -0.015265371500899644, 0.04538685411451951, -0.051402966919596, 0.05741907972467249, -0.022509261745224145, -0.01876453850660807, 0.048251669381194955, -0.01766977069351837, 0.02103592807306848, -0.009638056064593609, -0.0077605796217558925, 0.02039134482433102, -0.003517072147691273, -0.03626037353515018, -0.007330857145490062, 0.020166251610832332, -0.05078908006261713, -0.014999353179905585, 0.030837688292933856, 0.0011101158925536712, 0.022284168531725462, 0.025108057759582966, -0.0067681255087272026, -0.1303081648696246, -0.022038612298817806, -0.02010486255260542, 0.04199000406850108, 0.028934633075834926, 0.015828102672001222, 0.035093985154129086, -0.01155134372271959, 0.007315509880933334, 0.02308222442603021, 0.03593296522460664, 0.0010691898537357287, 0.02797287302625841, -0.0027701738019089545, -0.011428565606265763, -0.0053459493850939645, 0.0737076021960207, -0.012001529218394391, -0.02811611416212121, -0.014467316537917463, 0.01857013982222284, 0.02985546522394837, 0.026294909160013032, 0.01857013982222284, -0.03173805742163833, 0.019276112129187218, 0.01697402989625848, 0.0006116508097067906, 0.01311676005089306, -0.002482413522792862, -0.026008428750932566, 0.06425370958081757, -0.00019711590528153744, -0.025148983798400908, 0.0024210244645659486, -0.04074176360984409, -0.0001270142662467939, 0.023757502203881127, -0.037508613993807165, -0.05099370653141658, 0.02140426055978483, 0.008282384754039527, 0.07141574402221591, -0.05246704020357224, -0.010379838655523685, 0.036526392787466805, -0.001381250084815295, 0.02533315097308165, -0.04747407836894431, -0.05275352247529784, 0.009653403329150337, -0.12580630059965092, 0.06564518745004708, -0.04866092976937438, 0.03169713138282039, 0.021281484305976133, 0.0033098845418367217, -0.035564634600535425, -0.03984139075584936, 0.02463741017582176, -0.012533565860382512, -0.008389815605936626, 0.03296583486088634, -0.027993336045667384, -0.03347741034611062, -0.016124816453431303, -0.0034787039862994515, 0.004084919539306376, -0.014180834266191867, -0.04911111619637175, -0.04866092976937438, 0.01759815012558697, 0.008067523981567895, 0.019419353265050017, -0.014518473155117326, 0.003913542217417525, -0.017076344993303336, 0.04759685648539814, -0.0011139525922775327, -0.026274446140604063, 0.028443520610019618, 0.04078268964866204, -0.009049746119230817, -0.0148458805343383, 0.004931574639046146, -0.014436622008804008, -0.05246704020357224, -0.017076344993303336, -0.04194907802968313, -0.0053868754239119075, 0.04747407836894431, -0.018375743000482746, -0.011111389736749274, 0.02036065029521756, 0.009755718426195194, 0.0746079675994349, -0.013740881211544117, -0.018334816961664804]\n"
          ]
        }
      ],
      "source": [
        "# Turn the first text chunk into a vector with the embedding\n",
        "\n",
        "query_result = embeddings.embed_query(texts[0].page_content)\n",
        "print(query_result)"
      ]
    },
    {
      "cell_type": "code",
      "execution_count": 15,
      "metadata": {
        "id": "QaOY5bIZM3Xz"
      },
      "outputs": [
        {
          "name": "stderr",
          "output_type": "stream",
          "text": [
            "/Users/brandonl/miniforge3/envs/NLP/lib/python3.8/site-packages/pinecone/index.py:4: TqdmWarning: IProgress not found. Please update jupyter and ipywidgets. See https://ipywidgets.readthedocs.io/en/stable/user_install.html\n",
            "  from tqdm.autonotebook import tqdm\n"
          ]
        }
      ],
      "source": [
        "# Import and initialize Pinecone client\n",
        "\n",
        "import os\n",
        "import pinecone\n",
        "from langchain.vectorstores import Pinecone\n",
        "from tqdm.autonotebook import tqdm\n",
        "\n",
        "\n",
        "pinecone.init(\n",
        "    api_key=os.getenv('PINECONE_API_KEY'),  \n",
        "    environment=os.getenv('PINECONE_ENV')  \n",
        ")"
      ]
    },
    {
      "cell_type": "code",
      "execution_count": 21,
      "metadata": {
        "id": "lZhSUt3FNBzN"
      },
      "outputs": [],
      "source": [
        "# Upload vectors to Pinecone\n",
        "\n",
        "index_name = \"langchain-demo\"\n",
        "pinecone.create_index(index_name, dimension=1024,\n",
        "                          metric=\"cosine\", pods=1, pod_type=\"p1.x1\")"
      ]
    },
    {
      "cell_type": "code",
      "execution_count": 22,
      "metadata": {},
      "outputs": [],
      "source": [
        "search = Pinecone.from_documents(texts, embeddings, index_name=index_name)"
      ]
    },
    {
      "cell_type": "code",
      "execution_count": 23,
      "metadata": {
        "id": "cCXVuXwPNKcc"
      },
      "outputs": [
        {
          "name": "stdout",
          "output_type": "stream",
          "text": [
            "[Document(page_content='An autoencoder is a type of computer program that can help teach a computer how to do some useful', metadata={}), Document(page_content='Autoencoders are especially useful for computers because they can help the computer learn how to', metadata={}), Document(page_content=\"can see the original picture. That's what the autoencoder does - it takes the pieces apart and then\", metadata={}), Document(page_content='together in a way that the computer can understand.', metadata={})]\n"
          ]
        }
      ],
      "source": [
        "# Do a simple vector similarity search\n",
        "\n",
        "query = \"What is magical about an autoencoder?\"\n",
        "result = search.similarity_search(query)\n",
        "\n",
        "print(result)"
      ]
    },
    {
      "cell_type": "code",
      "execution_count": 25,
      "metadata": {
        "id": "4Ogz8luZNRnJ"
      },
      "outputs": [],
      "source": [
        "# Import Python REPL tool and instantiate Python agent\n",
        "\n",
        "from langchain.agents.agent_toolkits import create_python_agent\n",
        "from langchain.tools.python.tool import PythonREPLTool\n",
        "from langchain.python import PythonREPL\n",
        "from langchain.llms.openai import OpenAI\n",
        "\n",
        "agent_executor = create_python_agent(\n",
        "    llm=OpenAI(temperature=0, max_tokens=1000),\n",
        "    tool=PythonREPLTool(),\n",
        "    verbose=True\n",
        ")"
      ]
    },
    {
      "cell_type": "code",
      "execution_count": 26,
      "metadata": {
        "id": "BVHMDj0sNi09"
      },
      "outputs": [
        {
          "name": "stdout",
          "output_type": "stream",
          "text": [
            "\n",
            "\n",
            "\u001b[1m> Entering new AgentExecutor chain...\u001b[0m\n",
            "\u001b[32;1m\u001b[1;3m I need to solve a quadratic equation\n",
            "Action: Python REPL\n",
            "Action Input: import numpy as np\u001b[0m\n",
            "Observation: \u001b[36;1m\u001b[1;3m\u001b[0m\n",
            "Thought:\u001b[32;1m\u001b[1;3m I can use the numpy function to solve the equation\n",
            "Action: Python REPL\n",
            "Action Input: np.roots([3,2,-1])\u001b[0m\n",
            "Observation: \u001b[36;1m\u001b[1;3m\u001b[0m\n",
            "Thought:\u001b[32;1m\u001b[1;3m I now know the final answer\n",
            "Final Answer: (-1.0, 0.3333333333333333)\u001b[0m\n",
            "\n",
            "\u001b[1m> Finished chain.\u001b[0m\n"
          ]
        },
        {
          "data": {
            "text/plain": [
              "'(-1.0, 0.3333333333333333)'"
            ]
          },
          "execution_count": 26,
          "metadata": {},
          "output_type": "execute_result"
        }
      ],
      "source": [
        "# Execute the Python agent\n",
        "\n",
        "agent_executor.run(\"Find the roots (zeros) if the quadratic function 3 * x**2 + 2*x -1\")"
      ]
    }
  ],
  "metadata": {
    "colab": {
      "authorship_tag": "ABX9TyONM96f7/m0jUCD9c87+MQy",
      "include_colab_link": true,
      "provenance": []
    },
    "kernelspec": {
      "display_name": "Python 3",
      "name": "python3"
    },
    "language_info": {
      "codemirror_mode": {
        "name": "ipython",
        "version": 3
      },
      "file_extension": ".py",
      "mimetype": "text/x-python",
      "name": "python",
      "nbconvert_exporter": "python",
      "pygments_lexer": "ipython3",
      "version": "3.8.16"
    }
  },
  "nbformat": 4,
  "nbformat_minor": 0
}
